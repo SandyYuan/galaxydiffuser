{
 "cells": [
  {
   "cell_type": "code",
   "execution_count": 7,
   "id": "9a7f333a-52ef-4763-bb4a-b9ace99ebe2e",
   "metadata": {
    "tags": []
   },
   "outputs": [],
   "source": [
    "import jax\n",
    "from jax import jit, vmap, grad, vjp\n",
    "import jax.random as random\n",
    "import jax.numpy as jnp\n",
    "from jax.scipy.special import logsumexp\n",
    "from diffusionjax.run_lib import get_model, train\n",
    "from diffusionjax.utils import get_score, get_sampler, get_times\n",
    "from diffusionjax.solvers import EulerMaruyama, Inpainted, Projected\n",
    "from diffusionjax.inverse_problems import get_pseudo_inverse_guidance\n",
    "from diffusionjax.plot import plot_scatter, plot_score, plot_heatmap\n",
    "import diffusionjax.sde as sde_lib\n",
    "from absl import app, flags\n",
    "from ml_collections.config_flags import config_flags\n",
    "from flax import serialization\n",
    "import time\n",
    "import os\n",
    "\n",
    "%load_ext autoreload\n",
    "%autoreload 2"
   ]
  },
  {
   "cell_type": "code",
   "execution_count": 2,
   "id": "2b469ba9-ee7c-49ec-bc95-e077a10c2018",
   "metadata": {
    "tags": []
   },
   "outputs": [],
   "source": [
    "from torch.utils.data import Dataset\n"
   ]
  },
  {
   "cell_type": "code",
   "execution_count": 5,
   "id": "df01617b-df11-406b-a816-e1e600776fa1",
   "metadata": {
    "tags": []
   },
   "outputs": [],
   "source": [
    "\n",
    "class CircleDataset(Dataset):\n",
    "  \"\"\"Dataset containing samples from the circle.\"\"\"\n",
    "  def __init__(self, num_samples):\n",
    "    self.train_data = self.sample_circle(num_samples)\n",
    "\n",
    "  def __len__(self):\n",
    "    return self.train_data.shape[0]\n",
    "\n",
    "  def __getitem__(self, idx):\n",
    "    return self.train_data[idx]\n",
    "\n",
    "  def sample_circle(self, num_samples):\n",
    "    \"\"\"Samples from the unit circle, angles split.\n",
    "\n",
    "    Args:\n",
    "      num_samples: The number of samples.\n",
    "\n",
    "    Returns:\n",
    "      An (num_samples, 2) array of samples.\n",
    "    \"\"\"\n",
    "    alphas = jnp.linspace(0, 2 * jnp.pi * (1 - 1/num_samples), num_samples)\n",
    "    xs = jnp.cos(alphas)\n",
    "    ys = jnp.sin(alphas)\n",
    "    samples = jnp.stack([xs, ys], axis=1)\n",
    "    return samples\n",
    "\n",
    "  def metric_names(self):\n",
    "    return ['mean']\n",
    "\n",
    "  def calculate_metrics_batch(self, batch):\n",
    "    return vmap(lambda x: jnp.mean(x, axis=0))(batch)[0, 0]\n",
    "\n",
    "  def get_data_scaler(self, config):\n",
    "    def data_scaler(x):\n",
    "      return x / jnp.sqrt(2)\n",
    "    return data_scaler\n",
    "\n",
    "  def get_data_inverse_scaler(self, config):\n",
    "    def data_inverse_scaler(x):\n",
    "      return x * jnp.sqrt(2)\n",
    "    return data_inverse_scaler\n"
   ]
  },
  {
   "cell_type": "code",
   "execution_count": 6,
   "id": "73d7d029-934f-4b38-a056-97dbc5cd90bb",
   "metadata": {
    "tags": []
   },
   "outputs": [],
   "source": [
    "num_epochs = 4000\n",
    "num_samples = 8\n",
    "circleobj = CircleDataset(num_samples)\n",
    "samples = circleobj.sample_circle(num_samples)\n",
    "N = samples.shape[1]\n",
    "plot_scatter(samples=samples, index=(0, 1), fname=\"samples\", lims=((-3, 3), (-3, 3)))\n",
    "rng = random.PRNGKey(2023)"
   ]
  },
  {
   "cell_type": "code",
   "execution_count": 8,
   "id": "879437a2-fec0-45ba-9fdc-22cb64f48205",
   "metadata": {
    "tags": []
   },
   "outputs": [
    {
     "ename": "NameError",
     "evalue": "name 'VP' is not defined",
     "output_type": "error",
     "traceback": [
      "\u001b[0;31m---------------------------------------------------------------------------\u001b[0m",
      "\u001b[0;31mNameError\u001b[0m                                 Traceback (most recent call last)",
      "Cell \u001b[0;32mIn[8], line 1\u001b[0m\n\u001b[0;32m----> 1\u001b[0m sde \u001b[38;5;241m=\u001b[39m VP()\n\u001b[1;32m      3\u001b[0m \u001b[38;5;28;01mdef\u001b[39;00m \u001b[38;5;21mlog_hat_pt\u001b[39m(x, t):\n\u001b[1;32m      4\u001b[0m \u001b[38;5;250m    \u001b[39m\u001b[38;5;124;03m\"\"\"\u001b[39;00m\n\u001b[1;32m      5\u001b[0m \u001b[38;5;124;03m    Empirical distribution score.\u001b[39;00m\n\u001b[1;32m      6\u001b[0m \n\u001b[0;32m   (...)\u001b[0m\n\u001b[1;32m     13\u001b[0m \u001b[38;5;124;03m        \\hat{p}_{t}(x)\u001b[39;00m\n\u001b[1;32m     14\u001b[0m \u001b[38;5;124;03m    \"\"\"\u001b[39;00m\n",
      "\u001b[0;31mNameError\u001b[0m: name 'VP' is not defined"
     ]
    }
   ],
   "source": [
    "from diffusionjax.utils import get_linear_beta_function\n",
    "beta, log_mean_coeff = get_linear_beta_function(\n",
    "  beta_min=config.model.beta_min, beta_max=config.model.beta_max)\\\n",
    "\n",
    "sde = sde_lib.VP(beta, log_mean_coeff)\n",
    "sde = VP()\n",
    ">>>\n",
    ">>> def log_hat_pt(x, t):\n",
    ">>>     \"\"\"\n",
    ">>>     Empirical distribution score.\n",
    ">>>\n",
    ">>>     Args:\n",
    ">>>     x: One location in $\\mathbb{R}^2$\n",
    ">>>     t: time\n",
    ">>>     Returns:\n",
    ">>>     The empirical log density, as described in the Jupyter notebook\n",
    ">>>     .. math::\n",
    ">>>         \\hat{p}_{t}(x)\n",
    ">>>     \"\"\"\n",
    ">>>     mean, std = sde.marginal_prob(samples, t)\n",
    ">>>     potentials = jnp.sum(-(x - mean)**2 / (2 * std**2), axis=1)\n",
    ">>>     return logsumexp(potentials, axis=0, b=1/num_samples)\n",
    ">>>\n",
    ">>> # Get a jax grad function, which can be batched with vmap\n",
    ">>> nabla_log_hat_pt = jit(vmap(grad(log_hat_pt), in_axes=(0, 0), out_axes=(0)))\n",
    ">>>\n",
    ">>> # Running the reverse SDE with the empirical drift\n",
    ">>> plot_score(score=nabla_log_hat_pt, t=0.01, area_min=-3, area_max=3, fname=\"empirical score\")\n"
   ]
  },
  {
   "cell_type": "code",
   "execution_count": null,
   "id": "1825bebc-4c54-4e21-a124-cd97dac8adcc",
   "metadata": {},
   "outputs": [],
   "source": []
  }
 ],
 "metadata": {
  "kernelspec": {
   "display_name": "base",
   "language": "python",
   "name": "base"
  },
  "language_info": {
   "codemirror_mode": {
    "name": "ipython",
    "version": 3
   },
   "file_extension": ".py",
   "mimetype": "text/x-python",
   "name": "python",
   "nbconvert_exporter": "python",
   "pygments_lexer": "ipython3",
   "version": "3.11.5"
  }
 },
 "nbformat": 4,
 "nbformat_minor": 5
}
