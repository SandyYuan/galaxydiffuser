{
 "cells": [
  {
   "cell_type": "code",
   "execution_count": 1,
   "id": "6de26afc-5687-49ff-a080-d72e6a676dba",
   "metadata": {
    "tags": []
   },
   "outputs": [],
   "source": [
    "from datasets import load_dataset, concatenate_datasets\n",
    "import argparse\n",
    "from ddpm.denoising_diffusion_pytorch import Unet, GaussianDiffusion, Trainer, Galaxies\n",
    "import wandb\n",
    "import torch\n",
    "from PIL import ImageFile\n",
    "ImageFile.LOAD_TRUNCATED_IMAGES = True\n",
    "\n",
    "\n",
    "%load_ext autoreload\n",
    "%autoreload 2\n",
    "\n",
    "DEVICE = torch.device(\"cuda\" if torch.cuda.is_available() else \"cpu\")"
   ]
  },
  {
   "cell_type": "code",
   "execution_count": 2,
   "id": "bd39e41f-ebf5-4650-86c8-86dfd09f0c2e",
   "metadata": {
    "tags": []
   },
   "outputs": [
    {
     "name": "stderr",
     "output_type": "stream",
     "text": [
      "Failed to detect the name of this notebook, you can set it manually with the WANDB_NOTEBOOK_NAME environment variable to enable code saving.\n",
      "\u001b[34m\u001b[1mwandb\u001b[0m: Currently logged in as: \u001b[33msihany\u001b[0m. Use \u001b[1m`wandb login --relogin`\u001b[0m to force relogin\n"
     ]
    },
    {
     "data": {
      "text/html": [
       "wandb version 0.17.4 is available!  To upgrade, please run:\n",
       " $ pip install wandb --upgrade"
      ],
      "text/plain": [
       "<IPython.core.display.HTML object>"
      ]
     },
     "metadata": {},
     "output_type": "display_data"
    },
    {
     "data": {
      "text/html": [
       "Tracking run with wandb version 0.16.4"
      ],
      "text/plain": [
       "<IPython.core.display.HTML object>"
      ]
     },
     "metadata": {},
     "output_type": "display_data"
    },
    {
     "data": {
      "text/html": [
       "Run data is saved locally in <code>/global/u1/s/sihany/galaxydiffuser/wandb/run-20240710_162653-n6pb6n6e</code>"
      ],
      "text/plain": [
       "<IPython.core.display.HTML object>"
      ]
     },
     "metadata": {},
     "output_type": "display_data"
    },
    {
     "data": {
      "text/html": [
       "Syncing run <strong><a href='https://wandb.ai/sihany/galaxydiffuser/runs/n6pb6n6e' target=\"_blank\">vital-tree-36</a></strong> to <a href='https://wandb.ai/sihany/galaxydiffuser' target=\"_blank\">Weights & Biases</a> (<a href='https://wandb.me/run' target=\"_blank\">docs</a>)<br/>"
      ],
      "text/plain": [
       "<IPython.core.display.HTML object>"
      ]
     },
     "metadata": {},
     "output_type": "display_data"
    },
    {
     "data": {
      "text/html": [
       " View project at <a href='https://wandb.ai/sihany/galaxydiffuser' target=\"_blank\">https://wandb.ai/sihany/galaxydiffuser</a>"
      ],
      "text/plain": [
       "<IPython.core.display.HTML object>"
      ]
     },
     "metadata": {},
     "output_type": "display_data"
    },
    {
     "data": {
      "text/html": [
       " View run at <a href='https://wandb.ai/sihany/galaxydiffuser/runs/n6pb6n6e' target=\"_blank\">https://wandb.ai/sihany/galaxydiffuser/runs/n6pb6n6e</a>"
      ],
      "text/plain": [
       "<IPython.core.display.HTML object>"
      ]
     },
     "metadata": {},
     "output_type": "display_data"
    },
    {
     "data": {
      "text/html": [
       "<button onClick=\"this.nextSibling.style.display='block';this.style.display='none';\">Display W&B run</button><iframe src='https://wandb.ai/sihany/galaxydiffuser/runs/n6pb6n6e?jupyter=true' style='border:none;width:100%;height:420px;display:none;'></iframe>"
      ],
      "text/plain": [
       "<wandb.sdk.wandb_run.Run at 0x7fcea7422a90>"
      ]
     },
     "execution_count": 2,
     "metadata": {},
     "output_type": "execute_result"
    }
   ],
   "source": [
    "wandb.init()"
   ]
  },
  {
   "cell_type": "code",
   "execution_count": 2,
   "id": "4fa026e2-d838-483b-aa38-ed812619d072",
   "metadata": {
    "tags": []
   },
   "outputs": [
    {
     "data": {
      "application/vnd.jupyter.widget-view+json": {
       "model_id": "0d854b9f395b441482276aecdc7517f1",
       "version_major": 2,
       "version_minor": 0
      },
      "text/plain": [
       "Resolving data files:   0%|          | 0/192 [00:00<?, ?it/s]"
      ]
     },
     "metadata": {},
     "output_type": "display_data"
    },
    {
     "data": {
      "application/vnd.jupyter.widget-view+json": {
       "model_id": "c0ad05ea6ed8421490f5d9c7b9216e4c",
       "version_major": 2,
       "version_minor": 0
      },
      "text/plain": [
       "Loading dataset shards:   0%|          | 0/229 [00:00<?, ?it/s]"
      ]
     },
     "metadata": {},
     "output_type": "display_data"
    },
    {
     "name": "stdout",
     "output_type": "stream",
     "text": [
      "1016948\n"
     ]
    }
   ],
   "source": [
    "# meta data\n",
    "metadata = load_dataset(\"parquet\", data_files=\"/pscratch/sd/s/sihany/smithgalaxies/galaxies/metadata.parquet\", split=\"train\")\n",
    "meta_sorted = metadata.sort(\"dr8_id\")\n",
    "# meta_sorted = meta_sorted.with_format(\"torch\", device=DEVICE)\n",
    "\n",
    "\n",
    "ds = load_dataset(\"parquet\", data_files={'train': '/pscratch/sd/s/sihany/smithgalaxies/galaxies/data/train*'}, split=\"train[:12%]\")\n",
    "\n",
    "ds = ds.sort(\"dr8_id\")\n",
    "# ds = ds.with_format(\"torch\", device=DEVICE)\n",
    "print(len(ds))\n",
    "ids_train = set(ds['dr8_id'])\n",
    "meta_train = meta_sorted.filter(lambda example: example[\"dr8_id\"] in ids_train, num_proc = 4)\n",
    "assert len(meta_train['dr8_id']) == len(ds['dr8_id'])\n",
    "assert meta_train['dr8_id'] == ds['dr8_id']\n",
    "\n",
    "\n",
    "# select only rows with good specz\n",
    "inds = [example is not None for example in meta_train['spec_z']]\n",
    "import numpy as np\n",
    "inds = np.arange(len(meta_train))[np.array(inds)]\n",
    "\n",
    "ds = ds.select(inds)\n",
    "meta_train = meta_train.select(inds)\n",
    "\n",
    "# merge datasets\n",
    "ds = concatenate_datasets([ds, meta_train.select_columns(['spec_z', 'mass_inf_photoz', 'sfr_inf_photoz'])], axis = 1)"
   ]
  },
  {
   "cell_type": "code",
   "execution_count": 18,
   "id": "0342b854-24fe-4645-a49d-6f262822cf37",
   "metadata": {
    "tags": []
   },
   "outputs": [],
   "source": [
    "from torchvision import transforms\n",
    "\n",
    "# send to cuda\n",
    "ds = ds.with_format(\"torch\", device=DEVICE)\n",
    "\n",
    "# Preprocessing the datasets and DataLoaders creation.\n",
    "augmentations = transforms.Compose(\n",
    "    [\n",
    "            transforms.CenterCrop((128, 128)),\n",
    "            transforms.RandomHorizontalFlip(),\n",
    "            transforms.ToTensor(),\n",
    "            transforms.Normalize([0.5], [0.5]),\n",
    "    ]\n",
    ")\n",
    "\n",
    "def transform_images(examples):\n",
    "    images = [augmentations(image.convert(\"RGB\")) for image in examples[\"image\"]]\n",
    "    return {\"image\": images, \"dr8_id\": examples['dr8_id'], \"spec_z\": examples['spec_z'], \n",
    "            \"mass_inf_photoz\": examples['mass_inf_photoz'], \"sfr_inf_photoz\": examples['sfr_inf_photoz']}\n",
    "\n",
    "ds.set_transform(transform_images)\n"
   ]
  },
  {
   "cell_type": "code",
   "execution_count": 19,
   "id": "33e504d7-e466-45d3-aebe-df98ae9631ec",
   "metadata": {
    "tags": []
   },
   "outputs": [
    {
     "data": {
      "text/plain": [
       "tensor([[[-0.4902, -0.2314, -0.3569,  ..., -0.6078, -0.6314, -0.5451],\n",
       "         [-0.2863, -0.3020, -0.5451,  ..., -0.8745, -0.6157, -0.7804],\n",
       "         [-0.4902, -0.6314, -0.4039,  ..., -0.7647, -0.6314, -0.7412],\n",
       "         ...,\n",
       "         [-0.6078, -0.8118, -0.5294,  ..., -0.5294, -0.4353, -0.5294],\n",
       "         [-0.7098, -0.8667, -0.5765,  ..., -0.7882, -0.6627, -0.4980],\n",
       "         [-0.8431, -0.8118, -0.6627,  ..., -0.6314, -0.5765, -0.7647]],\n",
       "\n",
       "        [[-0.8431, -0.6627, -0.7020,  ..., -0.7490, -0.7725, -0.6235],\n",
       "         [-0.6078, -0.6235, -0.7804,  ..., -0.9529, -0.6784, -0.7725],\n",
       "         [-0.6627, -0.7020, -0.3647,  ..., -0.6706, -0.6392, -0.7569],\n",
       "         ...,\n",
       "         [-0.7882, -0.9686, -0.6078,  ..., -0.4275, -0.5294, -0.6784],\n",
       "         [-0.7569, -0.9529, -0.6549,  ..., -0.6863, -0.7412, -0.6706],\n",
       "         [-0.8118, -0.8588, -0.7647,  ..., -0.5686, -0.6157, -0.8824]],\n",
       "\n",
       "        [[-0.8196, -0.6157, -0.7255,  ..., -0.8275, -0.8510, -0.7176],\n",
       "         [-0.6235, -0.6392, -0.8667,  ..., -1.0000, -0.7804, -0.8824],\n",
       "         [-0.6471, -0.7725, -0.6000,  ..., -0.7804, -0.7804, -0.8745],\n",
       "         ...,\n",
       "         [-0.7098, -0.8980, -0.6000,  ..., -0.5059, -0.6392, -0.7333],\n",
       "         [-0.6784, -0.8431, -0.5922,  ..., -0.7412, -0.7569, -0.6471],\n",
       "         [-0.7412, -0.7647, -0.6941,  ..., -0.5451, -0.5608, -0.8275]]])"
      ]
     },
     "execution_count": 19,
     "metadata": {},
     "output_type": "execute_result"
    }
   ],
   "source": [
    "ds[0]['image']"
   ]
  },
  {
   "cell_type": "code",
   "execution_count": 20,
   "id": "7b5a2f88-db15-472e-8ae8-2e6dc5d944dd",
   "metadata": {
    "tags": []
   },
   "outputs": [
    {
     "ename": "TypeError",
     "evalue": "Invalid shape (3, 128, 128) for image data",
     "output_type": "error",
     "traceback": [
      "\u001b[0;31m---------------------------------------------------------------------------\u001b[0m",
      "\u001b[0;31mTypeError\u001b[0m                                 Traceback (most recent call last)",
      "Cell \u001b[0;32mIn[20], line 6\u001b[0m\n\u001b[1;32m      4\u001b[0m fig, axs \u001b[38;5;241m=\u001b[39m plt\u001b[38;5;241m.\u001b[39msubplots(\u001b[38;5;241m1\u001b[39m, \u001b[38;5;241m8\u001b[39m, figsize\u001b[38;5;241m=\u001b[39m(\u001b[38;5;241m16\u001b[39m, \u001b[38;5;241m4\u001b[39m))\n\u001b[1;32m      5\u001b[0m \u001b[38;5;28;01mfor\u001b[39;00m i, image \u001b[38;5;129;01min\u001b[39;00m \u001b[38;5;28menumerate\u001b[39m(ds[:\u001b[38;5;241m8\u001b[39m][\u001b[38;5;124m'\u001b[39m\u001b[38;5;124mimage\u001b[39m\u001b[38;5;124m'\u001b[39m]):\n\u001b[0;32m----> 6\u001b[0m     axs[i]\u001b[38;5;241m.\u001b[39mimshow(image\u001b[38;5;241m.\u001b[39mcpu())\n\u001b[1;32m      7\u001b[0m     \u001b[38;5;66;03m# axs[i].set_xlim(64, 192)\u001b[39;00m\n\u001b[1;32m      8\u001b[0m     \u001b[38;5;66;03m# axs[i].set_ylim(64, 192)\u001b[39;00m\n\u001b[1;32m      9\u001b[0m     axs[i]\u001b[38;5;241m.\u001b[39mset_axis_off()\n",
      "File \u001b[0;32m/global/common/software/desi/users/sihany/matplotlib/__init__.py:1473\u001b[0m, in \u001b[0;36m_preprocess_data.<locals>.inner\u001b[0;34m(ax, data, *args, **kwargs)\u001b[0m\n\u001b[1;32m   1470\u001b[0m \u001b[38;5;129m@functools\u001b[39m\u001b[38;5;241m.\u001b[39mwraps(func)\n\u001b[1;32m   1471\u001b[0m \u001b[38;5;28;01mdef\u001b[39;00m \u001b[38;5;21minner\u001b[39m(ax, \u001b[38;5;241m*\u001b[39margs, data\u001b[38;5;241m=\u001b[39m\u001b[38;5;28;01mNone\u001b[39;00m, \u001b[38;5;241m*\u001b[39m\u001b[38;5;241m*\u001b[39mkwargs):\n\u001b[1;32m   1472\u001b[0m     \u001b[38;5;28;01mif\u001b[39;00m data \u001b[38;5;129;01mis\u001b[39;00m \u001b[38;5;28;01mNone\u001b[39;00m:\n\u001b[0;32m-> 1473\u001b[0m         \u001b[38;5;28;01mreturn\u001b[39;00m func(\n\u001b[1;32m   1474\u001b[0m             ax,\n\u001b[1;32m   1475\u001b[0m             \u001b[38;5;241m*\u001b[39m\u001b[38;5;28mmap\u001b[39m(sanitize_sequence, args),\n\u001b[1;32m   1476\u001b[0m             \u001b[38;5;241m*\u001b[39m\u001b[38;5;241m*\u001b[39m{k: sanitize_sequence(v) \u001b[38;5;28;01mfor\u001b[39;00m k, v \u001b[38;5;129;01min\u001b[39;00m kwargs\u001b[38;5;241m.\u001b[39mitems()})\n\u001b[1;32m   1478\u001b[0m     bound \u001b[38;5;241m=\u001b[39m new_sig\u001b[38;5;241m.\u001b[39mbind(ax, \u001b[38;5;241m*\u001b[39margs, \u001b[38;5;241m*\u001b[39m\u001b[38;5;241m*\u001b[39mkwargs)\n\u001b[1;32m   1479\u001b[0m     auto_label \u001b[38;5;241m=\u001b[39m (bound\u001b[38;5;241m.\u001b[39marguments\u001b[38;5;241m.\u001b[39mget(label_namer)\n\u001b[1;32m   1480\u001b[0m                   \u001b[38;5;129;01mor\u001b[39;00m bound\u001b[38;5;241m.\u001b[39mkwargs\u001b[38;5;241m.\u001b[39mget(label_namer))\n",
      "File \u001b[0;32m/global/common/software/desi/users/sihany/matplotlib/axes/_axes.py:5895\u001b[0m, in \u001b[0;36mAxes.imshow\u001b[0;34m(self, X, cmap, norm, aspect, interpolation, alpha, vmin, vmax, origin, extent, interpolation_stage, filternorm, filterrad, resample, url, **kwargs)\u001b[0m\n\u001b[1;32m   5892\u001b[0m \u001b[38;5;28;01mif\u001b[39;00m aspect \u001b[38;5;129;01mis\u001b[39;00m \u001b[38;5;129;01mnot\u001b[39;00m \u001b[38;5;28;01mNone\u001b[39;00m:\n\u001b[1;32m   5893\u001b[0m     \u001b[38;5;28mself\u001b[39m\u001b[38;5;241m.\u001b[39mset_aspect(aspect)\n\u001b[0;32m-> 5895\u001b[0m im\u001b[38;5;241m.\u001b[39mset_data(X)\n\u001b[1;32m   5896\u001b[0m im\u001b[38;5;241m.\u001b[39mset_alpha(alpha)\n\u001b[1;32m   5897\u001b[0m \u001b[38;5;28;01mif\u001b[39;00m im\u001b[38;5;241m.\u001b[39mget_clip_path() \u001b[38;5;129;01mis\u001b[39;00m \u001b[38;5;28;01mNone\u001b[39;00m:\n\u001b[1;32m   5898\u001b[0m     \u001b[38;5;66;03m# image does not already have clipping set, clip to Axes patch\u001b[39;00m\n",
      "File \u001b[0;32m/global/common/software/desi/users/sihany/matplotlib/image.py:729\u001b[0m, in \u001b[0;36m_ImageBase.set_data\u001b[0;34m(self, A)\u001b[0m\n\u001b[1;32m    727\u001b[0m \u001b[38;5;28;01mif\u001b[39;00m \u001b[38;5;28misinstance\u001b[39m(A, PIL\u001b[38;5;241m.\u001b[39mImage\u001b[38;5;241m.\u001b[39mImage):\n\u001b[1;32m    728\u001b[0m     A \u001b[38;5;241m=\u001b[39m pil_to_array(A)  \u001b[38;5;66;03m# Needed e.g. to apply png palette.\u001b[39;00m\n\u001b[0;32m--> 729\u001b[0m \u001b[38;5;28mself\u001b[39m\u001b[38;5;241m.\u001b[39m_A \u001b[38;5;241m=\u001b[39m \u001b[38;5;28mself\u001b[39m\u001b[38;5;241m.\u001b[39m_normalize_image_array(A)\n\u001b[1;32m    730\u001b[0m \u001b[38;5;28mself\u001b[39m\u001b[38;5;241m.\u001b[39m_imcache \u001b[38;5;241m=\u001b[39m \u001b[38;5;28;01mNone\u001b[39;00m\n\u001b[1;32m    731\u001b[0m \u001b[38;5;28mself\u001b[39m\u001b[38;5;241m.\u001b[39mstale \u001b[38;5;241m=\u001b[39m \u001b[38;5;28;01mTrue\u001b[39;00m\n",
      "File \u001b[0;32m/global/common/software/desi/users/sihany/matplotlib/image.py:697\u001b[0m, in \u001b[0;36m_ImageBase._normalize_image_array\u001b[0;34m(A)\u001b[0m\n\u001b[1;32m    695\u001b[0m     A \u001b[38;5;241m=\u001b[39m A\u001b[38;5;241m.\u001b[39msqueeze(\u001b[38;5;241m-\u001b[39m\u001b[38;5;241m1\u001b[39m)  \u001b[38;5;66;03m# If just (M, N, 1), assume scalar and apply colormap.\u001b[39;00m\n\u001b[1;32m    696\u001b[0m \u001b[38;5;28;01mif\u001b[39;00m \u001b[38;5;129;01mnot\u001b[39;00m (A\u001b[38;5;241m.\u001b[39mndim \u001b[38;5;241m==\u001b[39m \u001b[38;5;241m2\u001b[39m \u001b[38;5;129;01mor\u001b[39;00m A\u001b[38;5;241m.\u001b[39mndim \u001b[38;5;241m==\u001b[39m \u001b[38;5;241m3\u001b[39m \u001b[38;5;129;01mand\u001b[39;00m A\u001b[38;5;241m.\u001b[39mshape[\u001b[38;5;241m-\u001b[39m\u001b[38;5;241m1\u001b[39m] \u001b[38;5;129;01min\u001b[39;00m [\u001b[38;5;241m3\u001b[39m, \u001b[38;5;241m4\u001b[39m]):\n\u001b[0;32m--> 697\u001b[0m     \u001b[38;5;28;01mraise\u001b[39;00m \u001b[38;5;167;01mTypeError\u001b[39;00m(\u001b[38;5;124mf\u001b[39m\u001b[38;5;124m\"\u001b[39m\u001b[38;5;124mInvalid shape \u001b[39m\u001b[38;5;132;01m{\u001b[39;00mA\u001b[38;5;241m.\u001b[39mshape\u001b[38;5;132;01m}\u001b[39;00m\u001b[38;5;124m for image data\u001b[39m\u001b[38;5;124m\"\u001b[39m)\n\u001b[1;32m    698\u001b[0m \u001b[38;5;28;01mif\u001b[39;00m A\u001b[38;5;241m.\u001b[39mndim \u001b[38;5;241m==\u001b[39m \u001b[38;5;241m3\u001b[39m:\n\u001b[1;32m    699\u001b[0m     \u001b[38;5;66;03m# If the input data has values outside the valid range (after\u001b[39;00m\n\u001b[1;32m    700\u001b[0m     \u001b[38;5;66;03m# normalisation), we issue a warning and then clip X to the bounds\u001b[39;00m\n\u001b[1;32m    701\u001b[0m     \u001b[38;5;66;03m# - otherwise casting wraps extreme values, hiding outliers and\u001b[39;00m\n\u001b[1;32m    702\u001b[0m     \u001b[38;5;66;03m# making reliable interpretation impossible.\u001b[39;00m\n\u001b[1;32m    703\u001b[0m     high \u001b[38;5;241m=\u001b[39m \u001b[38;5;241m255\u001b[39m \u001b[38;5;28;01mif\u001b[39;00m np\u001b[38;5;241m.\u001b[39missubdtype(A\u001b[38;5;241m.\u001b[39mdtype, np\u001b[38;5;241m.\u001b[39minteger) \u001b[38;5;28;01melse\u001b[39;00m \u001b[38;5;241m1\u001b[39m\n",
      "\u001b[0;31mTypeError\u001b[0m: Invalid shape (3, 128, 128) for image data"
     ]
    },
    {
     "data": {
      "image/png": "[encoded data removed]",
      "text/plain": [
       "<Figure size 1600x400 with 8 Axes>"
      ]
     },
     "metadata": {},
     "output_type": "display_data"
    }
   ],
   "source": [
    "# plot examples\n",
    "import matplotlib.pyplot as plt\n",
    "\n",
    "fig, axs = plt.subplots(1, 8, figsize=(16, 4))\n",
    "for i, image in enumerate(ds[:8]['image']):\n",
    "    axs[i].imshow(image.cpu())\n",
    "    # axs[i].set_xlim(64, 192)\n",
    "    # axs[i].set_ylim(64, 192)\n",
    "    axs[i].set_axis_off()\n",
    "plt.subplots_adjust(wspace=0.05, hspace=0)\n",
    "fig.show()"
   ]
  },
  {
   "cell_type": "code",
   "execution_count": 41,
   "id": "b0dff8a0-ff22-4cce-af0e-13195c282976",
   "metadata": {
    "tags": []
   },
   "outputs": [
    {
     "name": "stderr",
     "output_type": "stream",
     "text": [
      "100%|██████████| 3000/3000 [00:16<00:00, 177.38it/s]\n"
     ]
    }
   ],
   "source": [
    "# randomly save a bunch of val images for fid scores\n",
    "from matplotlib.image import imread\n",
    "from PIL import Image\n",
    "from tqdm import tqdm \n",
    "\n",
    "saveinds = np.random.choice(range(len(ds)), size = 3000, replace = False).astype(int)\n",
    "for ind in tqdm(saveinds):\n",
    "    gal = ds[int(ind)]['image'].cpu()\n",
    "    gal = gal[gal.shape[0]//2 - 64:gal.shape[0]//2 + 64, gal.shape[1]//2 - 64:gal.shape[1]//2 + 64, :]\n",
    "    im = Image.fromarray(gal.numpy().astype(np.uint8))\n",
    "    \n",
    "    im.save(f'/pscratch/sd/s/sihany/logs/tests_specz/{ind}.jpeg')\n",
    "    "
   ]
  },
  {
   "cell_type": "code",
   "execution_count": 21,
   "id": "4ee23265-0b67-4900-ab1f-002d916d05a7",
   "metadata": {
    "tags": []
   },
   "outputs": [],
   "source": [
    "from torch.utils import data\n",
    "dl = data.DataLoader(ds, batch_size = 16, shuffle=True)"
   ]
  },
  {
   "cell_type": "code",
   "execution_count": 22,
   "id": "035a6345-9511-4b44-9da5-fa6b0df359be",
   "metadata": {
    "tags": []
   },
   "outputs": [],
   "source": [
    "model = Unet(\n",
    "    dim = 64,\n",
    "    dim_mults = (1, 1, 2, 2, 2, 4, 4, 4),\n",
    "    # dim_cond = 3\n",
    ").to(device=DEVICE)\n",
    "\n",
    "diffusion = GaussianDiffusion(\n",
    "    model,\n",
    "    image_size =128,\n",
    "    timesteps = 1000,\n",
    "    loss_type = 'l2'\n",
    ").to(device=DEVICE)"
   ]
  },
  {
   "cell_type": "code",
   "execution_count": 23,
   "id": "7c0d4f4b-cbe9-477d-911f-cd28fe2029e7",
   "metadata": {
    "tags": []
   },
   "outputs": [],
   "source": [
    "trainer = Trainer(\n",
    "    diffusion,\n",
    "    dl = dl,\n",
    "    logdir = '/pscratch/sd/s/sihany/logs/desi_cond1/',\n",
    "    image_size = 128,\n",
    "    train_batch_size = 16,\n",
    "    train_lr = 1e-4,\n",
    "    train_num_steps = 100000,         # total training steps\n",
    "    gradient_accumulate_every = 1,    # gradient accumulation steps\n",
    "    ema_decay = 0.995,                # exponential moving average decay\n",
    "    step_start_ema = 5000,\n",
    "    save_every = 5000,\n",
    "    sample_every = 3000,\n",
    "    num_workers=16,\n",
    "    cond = False,\n",
    ")"
   ]
  },
  {
   "cell_type": "code",
   "execution_count": 24,
   "id": "01785273-102c-4fc2-86c5-ce85ecf16334",
   "metadata": {
    "tags": []
   },
   "outputs": [
    {
     "name": "stderr",
     "output_type": "stream",
     "text": [
      "  0%|          | 0/100000 [00:00<?, ?it/s]"
     ]
    },
    {
     "name": "stdout",
     "output_type": "stream",
     "text": [
      "torch.Size([16, 3, 128, 128]) tensor([[[[-0.8353, -0.7333, -0.5686,  ..., -0.7882, -0.6157, -0.6706],\n",
      "          [-0.6706, -0.7412, -0.7176,  ..., -0.7412, -0.7647, -0.6784],\n",
      "          [-0.5608, -0.7098, -0.6627,  ..., -0.7882, -0.9137, -0.7804],\n",
      "          ...,\n",
      "          [-0.8588, -0.8980, -0.7412,  ..., -0.6941, -0.8039, -0.8745],\n",
      "          [-0.8353, -0.8980, -0.7412,  ..., -0.8118, -0.8431, -0.7804],\n",
      "          [-0.8275, -0.8275, -0.5686,  ..., -0.7020, -0.8824, -0.6941]],\n",
      "\n",
      "         [[-0.8275, -0.8196, -0.7569,  ..., -0.7490, -0.6392, -0.7333],\n",
      "          [-0.6000, -0.7647, -0.8902,  ..., -0.7176, -0.8118, -0.7490],\n",
      "          [-0.4275, -0.6157, -0.6627,  ..., -0.8353, -0.9059, -0.7176],\n",
      "          ...,\n",
      "          [-0.9059, -0.9294, -0.8353,  ..., -0.6627, -0.6784, -0.7333],\n",
      "          [-0.7725, -0.8902, -0.8667,  ..., -0.8980, -0.7647, -0.6941],\n",
      "          [-0.7725, -0.8196, -0.7020,  ..., -0.8275, -0.8745, -0.6706]],\n",
      "\n",
      "         [[-0.9529, -0.8667, -0.6471,  ..., -0.8039, -0.6941, -0.7490],\n",
      "          [-0.7490, -0.8196, -0.7882,  ..., -0.7725, -0.9059, -0.8196],\n",
      "          [-0.5529, -0.7255, -0.7255,  ..., -0.8039, -0.9686, -0.8039],\n",
      "          ...,\n",
      "          [-0.8275, -0.8118, -0.6784,  ..., -0.6706, -0.7569, -0.8275],\n",
      "          [-0.8588, -0.9373, -0.8588,  ..., -0.8667, -0.8275, -0.7569],\n",
      "          [-0.9137, -0.9451, -0.7647,  ..., -0.8196, -0.9216, -0.7255]]],\n",
      "\n",
      "\n",
      "        [[[-0.8353, -0.8902, -0.7333,  ..., -0.6000, -0.4824, -0.3961],\n",
      "          [-0.8039, -0.7255, -0.7020,  ..., -0.4980, -0.4510, -0.4431],\n",
      "          [-0.6392, -0.6000, -0.6941,  ..., -0.4275, -0.3569, -0.3804],\n",
      "          ...,\n",
      "          [-0.8431, -0.7804, -0.6784,  ..., -0.6784, -0.6471, -0.7333],\n",
      "          [-0.7176, -0.7804, -0.7569,  ..., -0.6078, -0.6549, -0.7333],\n",
      "          [-0.7569, -0.7725, -0.7176,  ..., -0.6392, -0.5765, -0.7176]],\n",
      "\n",
      "         [[-0.7255, -0.8196, -0.7882,  ..., -0.5922, -0.5373, -0.4667],\n",
      "          [-0.7098, -0.6863, -0.7725,  ..., -0.4902, -0.5216, -0.5373],\n",
      "          [-0.6078, -0.6000, -0.7412,  ..., -0.4353, -0.5137, -0.5294],\n",
      "          ...,\n",
      "          [-0.7412, -0.6549, -0.6392,  ..., -0.7412, -0.6392, -0.6941],\n",
      "          [-0.5608, -0.6471, -0.7176,  ..., -0.6784, -0.7020, -0.7490],\n",
      "          [-0.6078, -0.6392, -0.6706,  ..., -0.6784, -0.6471, -0.7647]],\n",
      "\n",
      "         [[-0.9059, -0.9843, -0.8667,  ..., -0.7333, -0.6627, -0.6000],\n",
      "          [-0.8667, -0.8431, -0.8118,  ..., -0.6314, -0.6392, -0.6627],\n",
      "          [-0.7176, -0.6627, -0.7098,  ..., -0.5765, -0.6000, -0.6392],\n",
      "          ...,\n",
      "          [-0.7961, -0.7333, -0.6941,  ..., -0.7647, -0.6863, -0.7490],\n",
      "          [-0.6471, -0.7255, -0.7647,  ..., -0.7176, -0.7020, -0.7412],\n",
      "          [-0.6549, -0.6863, -0.7020,  ..., -0.7020, -0.6235, -0.7490]]],\n",
      "\n",
      "\n",
      "        [[[-0.9137, -0.7882, -0.7020,  ..., -0.7647, -0.6706, -0.7255],\n",
      "          [-0.8118, -0.7882, -0.8275,  ..., -0.7882, -0.6549, -0.6549],\n",
      "          [-0.7725, -0.8431, -0.8588,  ..., -0.7176, -0.6784, -0.6314],\n",
      "          ...,\n",
      "          [-0.8902, -0.8824, -0.5922,  ..., -0.9059, -0.8039, -0.7098],\n",
      "          [-0.8824, -0.8353, -0.8824,  ..., -0.7333, -0.7176, -0.7647],\n",
      "          [-0.8196, -0.7333, -0.7098,  ..., -0.7725, -0.8118, -0.8510]],\n",
      "\n",
      "         [[-0.9137, -0.7882, -0.6627,  ..., -0.8118, -0.6941, -0.7647],\n",
      "          [-0.7412, -0.7176, -0.7490,  ..., -0.8588, -0.7020, -0.7098],\n",
      "          [-0.6941, -0.7098, -0.7412,  ..., -0.8510, -0.7725, -0.7176],\n",
      "          ...,\n",
      "          [-0.7176, -0.7176, -0.5765,  ..., -0.8745, -0.8118, -0.7176],\n",
      "          [-0.8039, -0.7490, -0.8039,  ..., -0.8275, -0.7333, -0.7647],\n",
      "          [-0.7804, -0.6941, -0.6314,  ..., -0.8745, -0.8275, -0.8588]],\n",
      "\n",
      "         [[-0.9294, -0.8039, -0.7098,  ..., -0.7804, -0.6392, -0.7098],\n",
      "          [-0.7490, -0.7412, -0.8196,  ..., -0.8353, -0.6706, -0.6549],\n",
      "          [-0.6863, -0.7569, -0.7961,  ..., -0.8039, -0.7412, -0.6863],\n",
      "          ...,\n",
      "          [-0.8118, -0.8353, -0.6784,  ..., -0.7882, -0.7647, -0.6784],\n",
      "          [-0.7961, -0.7804, -0.8902,  ..., -0.7490, -0.7255, -0.7804],\n",
      "          [-0.7490, -0.6706, -0.6941,  ..., -0.8039, -0.8196, -0.8902]]],\n",
      "\n",
      "\n",
      "        ...,\n",
      "\n",
      "\n",
      "        [[[-0.6549, -0.5922, -0.7490,  ..., -0.7882, -0.6784, -0.5294],\n",
      "          [-0.6627, -0.7255, -0.7333,  ..., -0.6392, -0.5294, -0.6000],\n",
      "          [-0.8039, -0.8745, -0.7961,  ..., -0.6784, -0.5059, -0.5922],\n",
      "          ...,\n",
      "          [-0.6784, -0.6314, -0.6471,  ..., -0.7176, -0.7255, -0.8118],\n",
      "          [-0.8275, -0.6863, -0.5922,  ..., -0.6549, -0.6392, -0.7725],\n",
      "          [-0.8039, -0.7255, -0.6392,  ..., -0.7176, -0.7725, -0.7333]],\n",
      "\n",
      "         [[-0.6627, -0.6235, -0.8275,  ..., -0.8510, -0.7725, -0.6157],\n",
      "          [-0.6000, -0.7098, -0.7882,  ..., -0.6549, -0.6549, -0.7490],\n",
      "          [-0.6941, -0.7804, -0.7098,  ..., -0.7255, -0.6627, -0.7569],\n",
      "          ...,\n",
      "          [-0.7020, -0.6392, -0.6549,  ..., -0.7020, -0.6784, -0.7333],\n",
      "          [-0.8353, -0.7255, -0.6941,  ..., -0.6471, -0.5843, -0.6941],\n",
      "          [-0.8118, -0.7961, -0.7569,  ..., -0.7098, -0.7412, -0.6941]],\n",
      "\n",
      "         [[-0.6941, -0.6157, -0.7647,  ..., -0.7333, -0.6941, -0.5843],\n",
      "          [-0.6863, -0.7490, -0.7333,  ..., -0.5686, -0.5765, -0.7176],\n",
      "          [-0.7961, -0.8745, -0.7412,  ..., -0.7098, -0.6471, -0.7647],\n",
      "          ...,\n",
      "          [-0.7569, -0.6706, -0.5922,  ..., -0.7255, -0.7569, -0.8196],\n",
      "          [-0.8510, -0.7490, -0.6392,  ..., -0.7098, -0.6392, -0.7020],\n",
      "          [-0.8275, -0.7882, -0.7176,  ..., -0.7725, -0.7490, -0.6627]]],\n",
      "\n",
      "\n",
      "        [[[-0.6471, -0.7412, -0.6157,  ..., -0.6000, -0.7490, -0.6863],\n",
      "          [-0.6471, -0.4902, -0.6314,  ..., -0.7490, -0.7725, -0.8118],\n",
      "          [-0.6392, -0.4588, -0.5451,  ..., -0.6706, -0.6000, -0.7804],\n",
      "          ...,\n",
      "          [-0.7412, -0.6314, -0.5922,  ..., -0.1608, -0.0039,  0.0275],\n",
      "          [-0.8431, -0.7569, -0.6078,  ..., -0.3412, -0.3647, -0.3020],\n",
      "          [-0.9059, -0.9373, -0.6471,  ..., -0.4431, -0.3020, -0.3490]],\n",
      "\n",
      "         [[-0.7647, -0.8118, -0.6078,  ..., -0.4980, -0.8431, -0.8824],\n",
      "          [-0.8039, -0.6314, -0.7098,  ..., -0.6941, -0.8824, -0.9765],\n",
      "          [-0.7647, -0.6078, -0.7020,  ..., -0.6314, -0.6627, -0.8431],\n",
      "          ...,\n",
      "          [-0.7804, -0.7490, -0.8039,  ..., -0.4275, -0.3725, -0.2549],\n",
      "          [-0.8275, -0.7176, -0.7098,  ..., -0.5451, -0.5137, -0.3569],\n",
      "          [-0.8745, -0.8745, -0.7020,  ..., -0.6235, -0.4039, -0.3725]],\n",
      "\n",
      "         [[-0.7882, -0.8510, -0.6549,  ..., -0.6314, -0.8431, -0.8353],\n",
      "          [-0.7961, -0.6314, -0.7255,  ..., -0.8196, -0.8902, -0.9373],\n",
      "          [-0.7569, -0.5922, -0.7098,  ..., -0.6863, -0.6863, -0.8588],\n",
      "          ...,\n",
      "          [-0.8275, -0.7725, -0.7490,  ..., -0.4196, -0.3255, -0.1765],\n",
      "          [-0.8667, -0.7490, -0.6392,  ..., -0.5216, -0.4667, -0.2941],\n",
      "          [-0.8824, -0.8588, -0.6471,  ..., -0.5765, -0.3333, -0.2863]]],\n",
      "\n",
      "\n",
      "        [[[-0.7961, -0.7020, -0.6000,  ..., -0.6627, -0.6157, -0.5137],\n",
      "          [-0.8902, -0.7412, -0.7020,  ..., -0.6863, -0.4745, -0.4745],\n",
      "          [-0.8039, -0.8431, -0.8588,  ..., -0.6314, -0.4667, -0.4980],\n",
      "          ...,\n",
      "          [-0.9373, -0.8745, -0.7882,  ..., -0.8824, -0.6784, -0.6863],\n",
      "          [-0.9686, -0.9608, -0.7961,  ..., -0.9137, -0.7412, -0.5529],\n",
      "          [-0.9765, -0.9373, -0.8902,  ..., -0.7333, -0.5137, -0.6000]],\n",
      "\n",
      "         [[-0.4667, -0.4902, -0.5686,  ..., -0.6784, -0.6941, -0.7098],\n",
      "          [-0.5451, -0.4902, -0.6314,  ..., -0.6471, -0.5294, -0.6627],\n",
      "          [-0.5451, -0.5843, -0.6235,  ..., -0.5922, -0.4824, -0.6549],\n",
      "          ...,\n",
      "          [-0.7725, -0.6784, -0.6863,  ..., -0.8196, -0.8039, -0.8118],\n",
      "          [-0.7098, -0.7255, -0.7098,  ..., -0.8275, -0.8353, -0.6784],\n",
      "          [-0.6784, -0.6706, -0.7647,  ..., -0.6549, -0.5922, -0.7098]],\n",
      "\n",
      "         [[-0.5608, -0.5608, -0.5765,  ..., -0.7961, -0.7725, -0.7647],\n",
      "          [-0.6627, -0.6078, -0.6706,  ..., -0.8196, -0.6784, -0.7569],\n",
      "          [-0.6000, -0.6706, -0.6863,  ..., -0.7647, -0.6471, -0.7412],\n",
      "          ...,\n",
      "          [-0.8275, -0.7255, -0.6392,  ..., -0.7961, -0.7176, -0.7333],\n",
      "          [-0.7804, -0.8039, -0.6941,  ..., -0.8118, -0.8196, -0.6784],\n",
      "          [-0.7961, -0.8039, -0.7882,  ..., -0.6471, -0.6000, -0.7176]]]],\n",
      "       device='cuda:0')\n"
     ]
    },
    {
     "name": "stderr",
     "output_type": "stream",
     "text": [
      "loss = 1.2200927734375:   0%|          | 0/100000 [00:02<?, ?it/s]\n"
     ]
    },
    {
     "ename": "Error",
     "evalue": "You must call wandb.init() before wandb.log()",
     "output_type": "error",
     "traceback": [
      "\u001b[0;31m---------------------------------------------------------------------------\u001b[0m",
      "\u001b[0;31mError\u001b[0m                                     Traceback (most recent call last)",
      "Cell \u001b[0;32mIn[24], line 1\u001b[0m\n\u001b[0;32m----> 1\u001b[0m trainer\u001b[38;5;241m.\u001b[39mtrain()\n",
      "File \u001b[0;32m/global/u1/s/sihany/galaxydiffuser/ddpm/denoising_diffusion_pytorch.py:653\u001b[0m, in \u001b[0;36mTrainer.train\u001b[0;34m(self)\u001b[0m\n\u001b[1;32m    650\u001b[0m     \u001b[38;5;66;03m# print(loss)\u001b[39;00m\n\u001b[1;32m    651\u001b[0m     \u001b[38;5;66;03m# print(loss.item())\u001b[39;00m\n\u001b[1;32m    652\u001b[0m     loop\u001b[38;5;241m.\u001b[39mset_description(\u001b[38;5;124mf\u001b[39m\u001b[38;5;124m'\u001b[39m\u001b[38;5;124mloss = \u001b[39m\u001b[38;5;132;01m{\u001b[39;00mloss\u001b[38;5;241m.\u001b[39mitem()\u001b[38;5;132;01m}\u001b[39;00m\u001b[38;5;124m'\u001b[39m)\n\u001b[0;32m--> 653\u001b[0m     wandb\u001b[38;5;241m.\u001b[39mlog({\u001b[38;5;124m'\u001b[39m\u001b[38;5;124mloss\u001b[39m\u001b[38;5;124m'\u001b[39m: loss\u001b[38;5;241m.\u001b[39mitem(), \u001b[38;5;124m'\u001b[39m\u001b[38;5;124mstep\u001b[39m\u001b[38;5;124m'\u001b[39m: \u001b[38;5;28mself\u001b[39m\u001b[38;5;241m.\u001b[39mstep, \u001b[38;5;124m'\u001b[39m\u001b[38;5;124mlr\u001b[39m\u001b[38;5;124m'\u001b[39m: \u001b[38;5;28mself\u001b[39m\u001b[38;5;241m.\u001b[39mlr_scheduler\u001b[38;5;241m.\u001b[39mget_last_lr()[\u001b[38;5;241m0\u001b[39m]})\n\u001b[1;32m    655\u001b[0m \u001b[38;5;28mself\u001b[39m\u001b[38;5;241m.\u001b[39mopt\u001b[38;5;241m.\u001b[39mstep()\n\u001b[1;32m    656\u001b[0m \u001b[38;5;28mself\u001b[39m\u001b[38;5;241m.\u001b[39mlr_scheduler\u001b[38;5;241m.\u001b[39mstep()\n",
      "File \u001b[0;32m/global/common/software/desi/users/sihany/anaconda3/lib/python3.11/site-packages/wandb/sdk/lib/preinit.py:36\u001b[0m, in \u001b[0;36mPreInitCallable.<locals>.preinit_wrapper\u001b[0;34m(*args, **kwargs)\u001b[0m\n\u001b[1;32m     35\u001b[0m \u001b[38;5;28;01mdef\u001b[39;00m \u001b[38;5;21mpreinit_wrapper\u001b[39m(\u001b[38;5;241m*\u001b[39margs: Any, \u001b[38;5;241m*\u001b[39m\u001b[38;5;241m*\u001b[39mkwargs: Any) \u001b[38;5;241m-\u001b[39m\u001b[38;5;241m>\u001b[39m Any:\n\u001b[0;32m---> 36\u001b[0m     \u001b[38;5;28;01mraise\u001b[39;00m wandb\u001b[38;5;241m.\u001b[39mError(\u001b[38;5;124mf\u001b[39m\u001b[38;5;124m\"\u001b[39m\u001b[38;5;124mYou must call wandb.init() before \u001b[39m\u001b[38;5;132;01m{\u001b[39;00mname\u001b[38;5;132;01m}\u001b[39;00m\u001b[38;5;124m()\u001b[39m\u001b[38;5;124m\"\u001b[39m)\n",
      "\u001b[0;31mError\u001b[0m: You must call wandb.init() before wandb.log()"
     ]
    }
   ],
   "source": [
    "trainer.train()"
   ]
  },
  {
   "cell_type": "code",
   "execution_count": 8,
   "id": "ea204391-181b-4769-8633-ac1f41d9cab1",
   "metadata": {
    "tags": []
   },
   "outputs": [
    {
     "name": "stderr",
     "output_type": "stream",
     "text": [
      "sampling loop time step: 100%|██████████| 1000/1000 [08:08<00:00,  2.05it/s]\n",
      "sampling loop time step: 100%|██████████| 1000/1000 [08:07<00:00,  2.05it/s]\n",
      "sampling loop time step: 100%|██████████| 1000/1000 [08:07<00:00,  2.05it/s]\n",
      "sampling loop time step: 100%|██████████| 1000/1000 [08:07<00:00,  2.05it/s]\n",
      "sampling loop time step: 100%|██████████| 1000/1000 [08:07<00:00,  2.05it/s]\n",
      "sampling loop time step: 100%|██████████| 1000/1000 [08:07<00:00,  2.05it/s]\n"
     ]
    }
   ],
   "source": [
    "import numpy as np\n",
    "from PIL import Image\n",
    "import os\n",
    "\n",
    "milestone = 300000\n",
    "trainer.load(milestone)\n",
    "fakedir = '/pscratch/sd/s/sihany/logs/fakes/'+str(milestone)+'/'\n",
    "if not os.path.exists(fakedir):\n",
    "    os.makedirs(fakedir)\n",
    "    \n",
    "batchsize = 500\n",
    "for i in range(0, 6):\n",
    "    all_images = trainer.ema_model.module.sample(128, batch_size = batchsize)\n",
    "    \n",
    "    all_images = (all_images + 1)/2\n",
    "    # all_images = list(map(lambda x: (x - 0)/(255 - 0), all_images))\n",
    "    all_images = torch.flip(all_images, dims=[1])*255 # map channels correctly for imout\n",
    "    all_images = all_images.round()\n",
    "      \n",
    "    for eid, im in enumerate(all_images):\n",
    "        im = Image.fromarray(im.cpu().numpy().astype(np.uint8).T)\n",
    "        im.save(fakedir+str(eid+i*batchsize)+\".jpeg\")\n"
   ]
  },
  {
   "cell_type": "code",
   "execution_count": null,
   "id": "d54d2862-8a8f-45ed-8878-1b78925ab5af",
   "metadata": {},
   "outputs": [],
   "source": [
    "# check to see if 40,000 steps model is good enough, current training time for 100000 is 6 hours\n",
    "# fid score went from 37 to 57. so 40,000 is definitely not good enough\n",
    "# lets try 75000, fid = 41, so the fid is definitely steadily going down as we train more \n",
    "# what if we train for even longer, that test is done below with the dim = 64 model"
   ]
  },
  {
   "cell_type": "code",
   "execution_count": 9,
   "id": "c8ef2ae3-a765-4055-9f18-13f98b419aec",
   "metadata": {},
   "outputs": [
    {
     "name": "stdout",
     "output_type": "stream",
     "text": [
      "100%|███████████████████████████████████████████| 30/30 [00:02<00:00, 13.81it/s]\n",
      "100%|███████████████████████████████████████████| 30/30 [00:01<00:00, 17.41it/s]\n",
      "FID:  33.07824874974605\n"
     ]
    }
   ],
   "source": [
    "!python -m pytorch_fid --device cuda:2 --batch-size 100 /pscratch/sd/s/sihany/logs/tests2 /pscratch/sd/s/sihany/logs/fakes/300000"
   ]
  },
  {
   "cell_type": "code",
   "execution_count": null,
   "id": "43cb2985-fe8e-4814-9783-03995a216cde",
   "metadata": {},
   "outputs": [],
   "source": [
    "# fid score 37. the same as the other dataset\n",
    "# now drop unet dim from 128 to 64, train 120000 steps, fid = 37.8. so dim = 64 is probably enough. Now training to 210000 steps, we have 34.5, training to 300000 steps, we have 33. "
   ]
  }
 ],
 "metadata": {
  "kernelspec": {
   "display_name": "base",
   "language": "python",
   "name": "base"
  },
  "language_info": {
   "codemirror_mode": {
    "name": "ipython",
    "version": 3
   },
   "file_extension": ".py",
   "mimetype": "text/x-python",
   "name": "python",
   "nbconvert_exporter": "python",
   "pygments_lexer": "ipython3",
   "version": "3.11.5"
  }
 },
 "nbformat": 4,
 "nbformat_minor": 5
}
